{
 "cells": [
  {
   "cell_type": "markdown",
   "metadata": {},
   "source": [
    "# Text Processing\n",
    "\n",
    "## Capturing Text Data\n",
    "\n",
    "### Plain Text"
   ]
  },
  {
   "cell_type": "code",
   "execution_count": null,
   "metadata": {},
   "outputs": [],
   "source": [
    "import os\n",
    "\n",
    "# Read in a plain text file\n",
    "with open(os.path.join(\"data\", \"hieroglyph.txt\"), \"r\") as f:\n",
    "    text = f.read()\n",
    "    print(text)"
   ]
  },
  {
   "cell_type": "code",
   "execution_count": 1,
   "metadata": {},
   "outputs": [
    {
     "name": "stdout",
     "output_type": "stream",
     "text": [
      "Hieroglyphic writing dates from c. 3000 BC, and is composed of hundreds of symbols. A hieroglyph can represent a word, a sound, or a silent determinative; and the same symbol can serve different purposes in different contexts. Hieroglyphs were a formal script, used on stone monuments and in tombs, that could be as detailed as individual works of art.\n",
      "\n"
     ]
    }
   ],
   "source": [
    "import os\n",
    "\n",
    "#Read in a plain text file\n",
    "with open(os.path.join(\"data\", \"hieroglyph.txt\"), \"r\") as f:\n",
    "    text = f.read()\n",
    "    print(text)"
   ]
  },
  {
   "cell_type": "markdown",
   "metadata": {},
   "source": [
    "### Tabular Data"
   ]
  },
  {
   "cell_type": "code",
   "execution_count": null,
   "metadata": {
    "scrolled": true
   },
   "outputs": [],
   "source": [
    "import pandas as pd\n",
    "\n",
    "# Extract text column from a dataframe\n",
    "df = pd.read_csv(os.path.join(\"data\", \"news.csv\"))\n",
    "df.head()[['publisher', 'title']]\n",
    "\n",
    "# Convert text column to lowercase\n",
    "df['title'] = df['title'].str.lower()\n",
    "df.head()[['publisher', 'title']]"
   ]
  },
  {
   "cell_type": "code",
   "execution_count": 2,
   "metadata": {},
   "outputs": [
    {
     "data": {
      "text/html": [
       "<div>\n",
       "<style scoped>\n",
       "    .dataframe tbody tr th:only-of-type {\n",
       "        vertical-align: middle;\n",
       "    }\n",
       "\n",
       "    .dataframe tbody tr th {\n",
       "        vertical-align: top;\n",
       "    }\n",
       "\n",
       "    .dataframe thead th {\n",
       "        text-align: right;\n",
       "    }\n",
       "</style>\n",
       "<table border=\"1\" class=\"dataframe\">\n",
       "  <thead>\n",
       "    <tr style=\"text-align: right;\">\n",
       "      <th></th>\n",
       "      <th>publisher</th>\n",
       "      <th>title</th>\n",
       "    </tr>\n",
       "  </thead>\n",
       "  <tbody>\n",
       "    <tr>\n",
       "      <th>0</th>\n",
       "      <td>Livemint</td>\n",
       "      <td>fed's charles plosser sees high bar for change...</td>\n",
       "    </tr>\n",
       "    <tr>\n",
       "      <th>1</th>\n",
       "      <td>IFA Magazine</td>\n",
       "      <td>us open: stocks fall after fed official hints ...</td>\n",
       "    </tr>\n",
       "    <tr>\n",
       "      <th>2</th>\n",
       "      <td>IFA Magazine</td>\n",
       "      <td>fed risks falling 'behind the curve', charles ...</td>\n",
       "    </tr>\n",
       "    <tr>\n",
       "      <th>3</th>\n",
       "      <td>Moneynews</td>\n",
       "      <td>fed's plosser: nasty weather has curbed job gr...</td>\n",
       "    </tr>\n",
       "    <tr>\n",
       "      <th>4</th>\n",
       "      <td>NASDAQ</td>\n",
       "      <td>plosser: fed may have to accelerate tapering pace</td>\n",
       "    </tr>\n",
       "  </tbody>\n",
       "</table>\n",
       "</div>"
      ],
      "text/plain": [
       "      publisher                                              title\n",
       "0      Livemint  fed's charles plosser sees high bar for change...\n",
       "1  IFA Magazine  us open: stocks fall after fed official hints ...\n",
       "2  IFA Magazine  fed risks falling 'behind the curve', charles ...\n",
       "3     Moneynews  fed's plosser: nasty weather has curbed job gr...\n",
       "4        NASDAQ  plosser: fed may have to accelerate tapering pace"
      ]
     },
     "execution_count": 2,
     "metadata": {},
     "output_type": "execute_result"
    }
   ],
   "source": [
    "import pandas as pd\n",
    "\n",
    "#extract text column from a dataframe\n",
    "df = pd.read_csv(os.path.join(\"data\", \"news.csv\"))\n",
    "df.head()[['publisher', 'title']]\n",
    "\n",
    "#convert text column to lowercase\n",
    "df['title'] = df['title'].str.lower()\n",
    "df.head()[['publisher', 'title']]"
   ]
  },
  {
   "cell_type": "markdown",
   "metadata": {},
   "source": [
    "### Online Resource"
   ]
  },
  {
   "cell_type": "code",
   "execution_count": null,
   "metadata": {
    "scrolled": true
   },
   "outputs": [],
   "source": [
    "import requests\n",
    "import json\n",
    "\n",
    "# Fetch data from a REST API\n",
    "r = requests.get(\n",
    "    \"https://quotes.rest/qod.json\")\n",
    "res = r.json()\n",
    "print(json.dumps(res, indent=4))\n",
    "\n",
    "# Extract relevant object and field\n",
    "q = res[\"contents\"][\"quotes\"][0]\n",
    "print(q[\"quote\"], \"\\n--\", q[\"author\"])"
   ]
  },
  {
   "cell_type": "code",
   "execution_count": 3,
   "metadata": {},
   "outputs": [
    {
     "name": "stdout",
     "output_type": "stream",
     "text": [
      "{\n",
      "    \"success\": {\n",
      "        \"total\": 1\n",
      "    },\n",
      "    \"contents\": {\n",
      "        \"quotes\": [\n",
      "            {\n",
      "                \"quote\": \"Age is an issue of mind over matter. If you don\\u2019t mind, it doesn\\u2019t matter....\",\n",
      "                \"length\": \"91\",\n",
      "                \"author\": \"Mark Twain\",\n",
      "                \"tags\": [\n",
      "                    \"age\",\n",
      "                    \"inspire\"\n",
      "                ],\n",
      "                \"category\": \"inspire\",\n",
      "                \"language\": \"en\",\n",
      "                \"date\": \"2020-06-03\",\n",
      "                \"permalink\": \"https://theysaidso.com/quote/768275-mark-twain-age-is-an-issue-of-mind-over-matter-if-you-dont-mind-it-doesnt-matter\",\n",
      "                \"id\": \"I5kUYqjgtJIcJlwMuFk_xgeF\",\n",
      "                \"background\": \"https://theysaidso.com/img/qod/qod-inspire.jpg\",\n",
      "                \"title\": \"Inspiring Quote of the day\"\n",
      "            }\n",
      "        ]\n",
      "    },\n",
      "    \"baseurl\": \"https://theysaidso.com\",\n",
      "    \"copyright\": {\n",
      "        \"year\": 2022,\n",
      "        \"url\": \"https://theysaidso.com\"\n",
      "    }\n",
      "}\n",
      "Age is an issue of mind over matter. If you don’t mind, it doesn’t matter.... \n",
      "-- Mark Twain\n"
     ]
    }
   ],
   "source": [
    "import requests\n",
    "import json\n",
    "\n",
    "#fetch data from a rest API\n",
    "r = requests.get(\"https://quotes.rest/qod.json\")\n",
    "res = r.json()\n",
    "\n",
    "print(json.dumps(res, indent = 4))\n",
    "\n",
    "#Extract relevant object and field\n",
    "q = res[\"contents\"][\"quotes\"][0]\n",
    "print(q[\"quote\"], \"\\n--\", q[\"author\"])"
   ]
  },
  {
   "cell_type": "markdown",
   "metadata": {},
   "source": [
    "## Cleaning"
   ]
  },
  {
   "cell_type": "code",
   "execution_count": null,
   "metadata": {
    "scrolled": true
   },
   "outputs": [],
   "source": [
    "import requests\n",
    "\n",
    "# Fetch a web page\n",
    "r = requests.get(\"https://news.ycombinator.com\")\n",
    "print(r.text)"
   ]
  },
  {
   "cell_type": "code",
   "execution_count": 4,
   "metadata": {},
   "outputs": [
    {
     "name": "stdout",
     "output_type": "stream",
     "text": [
      "<html lang=\"en\" op=\"news\"><head><meta name=\"referrer\" content=\"origin\"><meta name=\"viewport\" content=\"width=device-width, initial-scale=1.0\"><link rel=\"stylesheet\" type=\"text/css\" href=\"news.css?cqKF7UqL3KIWisQnFXky\">\n",
      "        <link rel=\"shortcut icon\" href=\"favicon.ico\">\n",
      "          <link rel=\"alternate\" type=\"application/rss+xml\" title=\"RSS\" href=\"rss\">\n",
      "        <title>Hacker News</title></head><body><center><table id=\"hnmain\" border=\"0\" cellpadding=\"0\" cellspacing=\"0\" width=\"85%\" bgcolor=\"#f6f6ef\">\n",
      "        <tr><td bgcolor=\"#ff6600\"><table border=\"0\" cellpadding=\"0\" cellspacing=\"0\" width=\"100%\" style=\"padding:2px\"><tr><td style=\"width:18px;padding-right:4px\"><a href=\"https://news.ycombinator.com\"><img src=\"y18.gif\" width=\"18\" height=\"18\" style=\"border:1px white solid;\"></a></td>\n",
      "                  <td style=\"line-height:12pt; height:10px;\"><span class=\"pagetop\"><b class=\"hnname\"><a href=\"news\">Hacker News</a></b>\n",
      "              <a href=\"newest\">new</a> | <a href=\"front\">past</a> | <a href=\"newcomments\">comments</a> | <a href=\"ask\">ask</a> | <a href=\"show\">show</a> | <a href=\"jobs\">jobs</a> | <a href=\"submit\">submit</a>            </span></td><td style=\"text-align:right;padding-right:4px;\"><span class=\"pagetop\">\n",
      "                              <a href=\"login?goto=news\">login</a>\n",
      "                          </span></td>\n",
      "              </tr></table></td></tr>\n",
      "<tr id=\"pagespace\" title=\"\" style=\"height:10px\"></tr><tr><td><table border=\"0\" cellpadding=\"0\" cellspacing=\"0\" class=\"itemlist\">\n",
      "              <tr class='athing' id='23402343'>\n",
      "      <td align=\"right\" valign=\"top\" class=\"title\"><span class=\"rank\">1.</span></td>      <td valign=\"top\" class=\"votelinks\"><center><a id='up_23402343' href='vote?id=23402343&amp;how=up&amp;goto=news'><div class='votearrow' title='upvote'></div></a></center></td><td class=\"title\"><a href=\"https://blog.plover.com/book/weirdos.html\" class=\"storylink\">Weirdos in the depression</a><span class=\"sitebit comhead\"> (<a href=\"from?site=plover.com\"><span class=\"sitestr\">plover.com</span></a>)</span></td></tr><tr><td colspan=\"2\"></td><td class=\"subtext\">\n",
      "        <span class=\"score\" id=\"score_23402343\">163 points</span> by <a href=\"user?id=johndcook\" class=\"hnuser\">johndcook</a> <span class=\"age\"><a href=\"item?id=23402343\">2 hours ago</a></span> <span id=\"unv_23402343\"></span> | <a href=\"hide?id=23402343&amp;goto=news\">hide</a> | <a href=\"item?id=23402343\">100&nbsp;comments</a>              </td></tr>\n",
      "      <tr class=\"spacer\" style=\"height:5px\"></tr>\n",
      "                <tr class='athing' id='23402788'>\n",
      "      <td align=\"right\" valign=\"top\" class=\"title\"><span class=\"rank\">2.</span></td>      <td valign=\"top\" class=\"votelinks\"><center><a id='up_23402788' href='vote?id=23402788&amp;how=up&amp;goto=news'><div class='votearrow' title='upvote'></div></a></center></td><td class=\"title\"><a href=\"https://blog.cerebralab.com/Is_a_trillion-dollar_worth_of_programming_lying_on_the_ground\" class=\"storylink\">Is a trillion-dollars worth of programming lying on the ground?</a><span class=\"sitebit comhead\"> (<a href=\"from?site=cerebralab.com\"><span class=\"sitestr\">cerebralab.com</span></a>)</span></td></tr><tr><td colspan=\"2\"></td><td class=\"subtext\">\n",
      "        <span class=\"score\" id=\"score_23402788\">56 points</span> by <a href=\"user?id=george3d6\" class=\"hnuser\">george3d6</a> <span class=\"age\"><a href=\"item?id=23402788\">1 hour ago</a></span> <span id=\"unv_23402788\"></span> | <a href=\"hide?id=23402788&amp;goto=news\">hide</a> | <a href=\"item?id=23402788\">27&nbsp;comments</a>              </td></tr>\n",
      "      <tr class=\"spacer\" style=\"height:5px\"></tr>\n",
      "                <tr class='athing' id='23402134'>\n",
      "      <td align=\"right\" valign=\"top\" class=\"title\"><span class=\"rank\">3.</span></td>      <td valign=\"top\" class=\"votelinks\"><center><a id='up_23402134' href='vote?id=23402134&amp;how=up&amp;goto=news'><div class='votearrow' title='upvote'></div></a></center></td><td class=\"title\"><a href=\"https://github.com/vladocar/Basic.css\" class=\"storylink\">Show HN: Basic.css – Classless CSS Starter File</a><span class=\"sitebit comhead\"> (<a href=\"from?site=github.com\"><span class=\"sitestr\">github.com</span></a>)</span></td></tr><tr><td colspan=\"2\"></td><td class=\"subtext\">\n",
      "        <span class=\"score\" id=\"score_23402134\">47 points</span> by <a href=\"user?id=vladocar\" class=\"hnuser\">vladocar</a> <span class=\"age\"><a href=\"item?id=23402134\">2 hours ago</a></span> <span id=\"unv_23402134\"></span> | <a href=\"hide?id=23402134&amp;goto=news\">hide</a> | <a href=\"item?id=23402134\">17&nbsp;comments</a>              </td></tr>\n",
      "      <tr class=\"spacer\" style=\"height:5px\"></tr>\n",
      "                <tr class='athing' id='23390071'>\n",
      "      <td align=\"right\" valign=\"top\" class=\"title\"><span class=\"rank\">4.</span></td>      <td valign=\"top\" class=\"votelinks\"><center><a id='up_23390071' href='vote?id=23390071&amp;how=up&amp;goto=news'><div class='votearrow' title='upvote'></div></a></center></td><td class=\"title\"><a href=\"https://courses.csail.mit.edu/6.857/2019/project/18-doNascimento-Kumari-Ganesan.pdf\" class=\"storylink\">Zero Knowledge Proofs applied to Auctions [pdf]</a><span class=\"sitebit comhead\"> (<a href=\"from?site=mit.edu\"><span class=\"sitestr\">mit.edu</span></a>)</span></td></tr><tr><td colspan=\"2\"></td><td class=\"subtext\">\n",
      "        <span class=\"score\" id=\"score_23390071\">13 points</span> by <a href=\"user?id=kkm\" class=\"hnuser\">kkm</a> <span class=\"age\"><a href=\"item?id=23390071\">1 hour ago</a></span> <span id=\"unv_23390071\"></span> | <a href=\"hide?id=23390071&amp;goto=news\">hide</a> | <a href=\"item?id=23390071\">discuss</a>              </td></tr>\n",
      "      <tr class=\"spacer\" style=\"height:5px\"></tr>\n",
      "                <tr class='athing' id='23389437'>\n",
      "      <td align=\"right\" valign=\"top\" class=\"title\"><span class=\"rank\">5.</span></td>      <td valign=\"top\" class=\"votelinks\"><center><a id='up_23389437' href='vote?id=23389437&amp;how=up&amp;goto=news'><div class='votearrow' title='upvote'></div></a></center></td><td class=\"title\"><a href=\"https://whatever.scalzi.com/2020/05/05/thoughts-on-cameras-in-the-age-of-excellent-cell-phone-photos/\" class=\"storylink\">Thoughts on cameras in the age of excellent cell phone photos</a><span class=\"sitebit comhead\"> (<a href=\"from?site=scalzi.com\"><span class=\"sitestr\">scalzi.com</span></a>)</span></td></tr><tr><td colspan=\"2\"></td><td class=\"subtext\">\n",
      "        <span class=\"score\" id=\"score_23389437\">87 points</span> by <a href=\"user?id=Tomte\" class=\"hnuser\">Tomte</a> <span class=\"age\"><a href=\"item?id=23389437\">5 hours ago</a></span> <span id=\"unv_23389437\"></span> | <a href=\"hide?id=23389437&amp;goto=news\">hide</a> | <a href=\"item?id=23389437\">131&nbsp;comments</a>              </td></tr>\n",
      "      <tr class=\"spacer\" style=\"height:5px\"></tr>\n",
      "                <tr class='athing' id='23398696'>\n",
      "      <td align=\"right\" valign=\"top\" class=\"title\"><span class=\"rank\">6.</span></td>      <td valign=\"top\" class=\"votelinks\"><center><a id='up_23398696' href='vote?id=23398696&amp;how=up&amp;goto=news'><div class='votearrow' title='upvote'></div></a></center></td><td class=\"title\"><a href=\"https://newatlas.com/materials/black-nitrogen-allotrope-periodic-table/\" class=\"storylink\">Never-before-seen “black nitrogen” plugs puzzle in periodic table</a><span class=\"sitebit comhead\"> (<a href=\"from?site=newatlas.com\"><span class=\"sitestr\">newatlas.com</span></a>)</span></td></tr><tr><td colspan=\"2\"></td><td class=\"subtext\">\n",
      "        <span class=\"score\" id=\"score_23398696\">310 points</span> by <a href=\"user?id=sahin-boydas\" class=\"hnuser\">sahin-boydas</a> <span class=\"age\"><a href=\"item?id=23398696\">12 hours ago</a></span> <span id=\"unv_23398696\"></span> | <a href=\"hide?id=23398696&amp;goto=news\">hide</a> | <a href=\"item?id=23398696\">93&nbsp;comments</a>              </td></tr>\n",
      "      <tr class=\"spacer\" style=\"height:5px\"></tr>\n",
      "                <tr class='athing' id='23399924'>\n",
      "      <td align=\"right\" valign=\"top\" class=\"title\"><span class=\"rank\">7.</span></td>      <td valign=\"top\" class=\"votelinks\"><center><a id='up_23399924' href='vote?id=23399924&amp;how=up&amp;goto=news'><div class='votearrow' title='upvote'></div></a></center></td><td class=\"title\"><a href=\"https://twitter.com/nicoagrant/status/1268020841054269440\" class=\"storylink\">Zoom says it won’t encrypt free calls so it can work more with law enforcement</a><span class=\"sitebit comhead\"> (<a href=\"from?site=twitter.com\"><span class=\"sitestr\">twitter.com</span></a>)</span></td></tr><tr><td colspan=\"2\"></td><td class=\"subtext\">\n",
      "        <span class=\"score\" id=\"score_23399924\">528 points</span> by <a href=\"user?id=sneak\" class=\"hnuser\">sneak</a> <span class=\"age\"><a href=\"item?id=23399924\">8 hours ago</a></span> <span id=\"unv_23399924\"></span> | <a href=\"hide?id=23399924&amp;goto=news\">hide</a> | <a href=\"item?id=23399924\">272&nbsp;comments</a>              </td></tr>\n",
      "      <tr class=\"spacer\" style=\"height:5px\"></tr>\n",
      "                <tr class='athing' id='23389675'>\n",
      "      <td align=\"right\" valign=\"top\" class=\"title\"><span class=\"rank\">8.</span></td>      <td valign=\"top\" class=\"votelinks\"><center><a id='up_23389675' href='vote?id=23389675&amp;how=up&amp;goto=news'><div class='votearrow' title='upvote'></div></a></center></td><td class=\"title\"><a href=\"https://www.tindie.com/products/fikesfarm/esprit-clojurescript-repl/\" class=\"storylink\">Esprit Board for Exploring ClojureScript on ESP32 Processors</a><span class=\"sitebit comhead\"> (<a href=\"from?site=tindie.com\"><span class=\"sitestr\">tindie.com</span></a>)</span></td></tr><tr><td colspan=\"2\"></td><td class=\"subtext\">\n",
      "        <span class=\"score\" id=\"score_23389675\">26 points</span> by <a href=\"user?id=tosh\" class=\"hnuser\">tosh</a> <span class=\"age\"><a href=\"item?id=23389675\">3 hours ago</a></span> <span id=\"unv_23389675\"></span> | <a href=\"hide?id=23389675&amp;goto=news\">hide</a> | <a href=\"item?id=23389675\">3&nbsp;comments</a>              </td></tr>\n",
      "      <tr class=\"spacer\" style=\"height:5px\"></tr>\n",
      "                <tr class='athing' id='23399484'>\n",
      "      <td align=\"right\" valign=\"top\" class=\"title\"><span class=\"rank\">9.</span></td>      <td valign=\"top\" class=\"votelinks\"><center><a id='up_23399484' href='vote?id=23399484&amp;how=up&amp;goto=news'><div class='votearrow' title='upvote'></div></a></center></td><td class=\"title\"><a href=\"https://blog.benwiener.com/programming/2019/04/29/reinventing-the-wheel.html\" class=\"storylink\">Reinventing the Wheel: Discovering the Optimal Rolling Shape with PyTorch (2019)</a><span class=\"sitebit comhead\"> (<a href=\"from?site=benwiener.com\"><span class=\"sitestr\">benwiener.com</span></a>)</span></td></tr><tr><td colspan=\"2\"></td><td class=\"subtext\">\n",
      "        <span class=\"score\" id=\"score_23399484\">68 points</span> by <a href=\"user?id=sillysaurusx\" class=\"hnuser\">sillysaurusx</a> <span class=\"age\"><a href=\"item?id=23399484\">6 hours ago</a></span> <span id=\"unv_23399484\"></span> | <a href=\"hide?id=23399484&amp;goto=news\">hide</a> | <a href=\"item?id=23399484\">31&nbsp;comments</a>              </td></tr>\n",
      "      <tr class=\"spacer\" style=\"height:5px\"></tr>\n",
      "                <tr class='athing' id='23403147'>\n",
      "      <td align=\"right\" valign=\"top\" class=\"title\"><span class=\"rank\">10.</span></td>      <td valign=\"top\" class=\"votelinks\"><center><a id='up_23403147' href='vote?id=23403147&amp;how=up&amp;goto=news'><div class='votearrow' title='upvote'></div></a></center></td><td class=\"title\"><a href=\"https://www.vox.com/2020/6/2/21278559/tear-gas-white-house-protest-park-police\" class=\"storylink\">Park Police denies tear gas on peaceful protesters. Evidence suggests otherwise</a><span class=\"sitebit comhead\"> (<a href=\"from?site=vox.com\"><span class=\"sitestr\">vox.com</span></a>)</span></td></tr><tr><td colspan=\"2\"></td><td class=\"subtext\">\n",
      "        <span class=\"score\" id=\"score_23403147\">26 points</span> by <a href=\"user?id=hhs\" class=\"hnuser\">hhs</a> <span class=\"age\"><a href=\"item?id=23403147\">22 minutes ago</a></span> <span id=\"unv_23403147\"></span> | <a href=\"hide?id=23403147&amp;goto=news\">hide</a> | <a href=\"item?id=23403147\">5&nbsp;comments</a>              </td></tr>\n",
      "      <tr class=\"spacer\" style=\"height:5px\"></tr>\n",
      "                <tr class='athing' id='23402599'>\n",
      "      <td align=\"right\" valign=\"top\" class=\"title\"><span class=\"rank\">11.</span></td>      <td valign=\"top\" class=\"votelinks\"><center><a id='up_23402599' href='vote?id=23402599&amp;how=up&amp;goto=news'><div class='votearrow' title='upvote'></div></a></center></td><td class=\"title\"><a href=\"https://www.dyson.co.uk/newsroom/overview/features/june-2020/dyson-battery-electric-vehicle.html\" class=\"storylink\">The Dyson Battery Electric Vehicle</a><span class=\"sitebit comhead\"> (<a href=\"from?site=dyson.co.uk\"><span class=\"sitestr\">dyson.co.uk</span></a>)</span></td></tr><tr><td colspan=\"2\"></td><td class=\"subtext\">\n",
      "        <span class=\"score\" id=\"score_23402599\">93 points</span> by <a href=\"user?id=uptown\" class=\"hnuser\">uptown</a> <span class=\"age\"><a href=\"item?id=23402599\">1 hour ago</a></span> <span id=\"unv_23402599\"></span> | <a href=\"hide?id=23402599&amp;goto=news\">hide</a> | <a href=\"item?id=23402599\">32&nbsp;comments</a>              </td></tr>\n",
      "      <tr class=\"spacer\" style=\"height:5px\"></tr>\n",
      "                <tr class='athing' id='23390914'>\n",
      "      <td align=\"right\" valign=\"top\" class=\"title\"><span class=\"rank\">12.</span></td>      <td valign=\"top\" class=\"votelinks\"><center><a id='up_23390914' href='vote?id=23390914&amp;how=up&amp;goto=news'><div class='votearrow' title='upvote'></div></a></center></td><td class=\"title\"><a href=\"https://zserge.com/posts/jvm/\" class=\"storylink\">How to write a toy JVM</a><span class=\"sitebit comhead\"> (<a href=\"from?site=zserge.com\"><span class=\"sitestr\">zserge.com</span></a>)</span></td></tr><tr><td colspan=\"2\"></td><td class=\"subtext\">\n",
      "        <span class=\"score\" id=\"score_23390914\">290 points</span> by <a href=\"user?id=oftenwrong\" class=\"hnuser\">oftenwrong</a> <span class=\"age\"><a href=\"item?id=23390914\">15 hours ago</a></span> <span id=\"unv_23390914\"></span> | <a href=\"hide?id=23390914&amp;goto=news\">hide</a> | <a href=\"item?id=23390914\">61&nbsp;comments</a>              </td></tr>\n",
      "      <tr class=\"spacer\" style=\"height:5px\"></tr>\n",
      "                <tr class='athing' id='23400565'>\n",
      "      <td align=\"right\" valign=\"top\" class=\"title\"><span class=\"rank\">13.</span></td>      <td valign=\"top\" class=\"votelinks\"><center><a id='up_23400565' href='vote?id=23400565&amp;how=up&amp;goto=news'><div class='votearrow' title='upvote'></div></a></center></td><td class=\"title\"><a href=\"https://spectrum.ieee.org/nanoclast/semiconductors/devices/atomthin-switches-5g-6g-radio-signals\" class=\"storylink\">Atom-Thin Switches Could Route 5G and 6G Radio Signals</a><span class=\"sitebit comhead\"> (<a href=\"from?site=ieee.org\"><span class=\"sitestr\">ieee.org</span></a>)</span></td></tr><tr><td colspan=\"2\"></td><td class=\"subtext\">\n",
      "        <span class=\"score\" id=\"score_23400565\">58 points</span> by <a href=\"user?id=jonbaer\" class=\"hnuser\">jonbaer</a> <span class=\"age\"><a href=\"item?id=23400565\">7 hours ago</a></span> <span id=\"unv_23400565\"></span> | <a href=\"hide?id=23400565&amp;goto=news\">hide</a> | <a href=\"item?id=23400565\">1&nbsp;comment</a>              </td></tr>\n",
      "      <tr class=\"spacer\" style=\"height:5px\"></tr>\n",
      "                <tr class='athing' id='23398261'>\n",
      "      <td align=\"right\" valign=\"top\" class=\"title\"><span class=\"rank\">14.</span></td>      <td valign=\"top\" class=\"votelinks\"><center><a id='up_23398261' href='vote?id=23398261&amp;how=up&amp;goto=news'><div class='votearrow' title='upvote'></div></a></center></td><td class=\"title\"><a href=\"https://github.com/cowbell/sharedrop\" class=\"storylink\">Sharedrop – Easy P2P file transfer powered by WebRTC</a><span class=\"sitebit comhead\"> (<a href=\"from?site=github.com\"><span class=\"sitestr\">github.com</span></a>)</span></td></tr><tr><td colspan=\"2\"></td><td class=\"subtext\">\n",
      "        <span class=\"score\" id=\"score_23398261\">212 points</span> by <a href=\"user?id=todsacerdoti\" class=\"hnuser\">todsacerdoti</a> <span class=\"age\"><a href=\"item?id=23398261\">13 hours ago</a></span> <span id=\"unv_23398261\"></span> | <a href=\"hide?id=23398261&amp;goto=news\">hide</a> | <a href=\"item?id=23398261\">61&nbsp;comments</a>              </td></tr>\n",
      "      <tr class=\"spacer\" style=\"height:5px\"></tr>\n",
      "                <tr class='athing' id='23389435'>\n",
      "      <td align=\"right\" valign=\"top\" class=\"title\"><span class=\"rank\">15.</span></td>      <td valign=\"top\" class=\"votelinks\"><center><a id='up_23389435' href='vote?id=23389435&amp;how=up&amp;goto=news'><div class='votearrow' title='upvote'></div></a></center></td><td class=\"title\"><a href=\"https://cubeweaver.com/\" class=\"storylink\">Show HN: CubeWeaver, a collaborative multidimensional web-based spreadsheet</a><span class=\"sitebit comhead\"> (<a href=\"from?site=cubeweaver.com\"><span class=\"sitestr\">cubeweaver.com</span></a>)</span></td></tr><tr><td colspan=\"2\"></td><td class=\"subtext\">\n",
      "        <span class=\"score\" id=\"score_23389435\">61 points</span> by <a href=\"user?id=egeria_planning\" class=\"hnuser\">egeria_planning</a> <span class=\"age\"><a href=\"item?id=23389435\">6 hours ago</a></span> <span id=\"unv_23389435\"></span> | <a href=\"hide?id=23389435&amp;goto=news\">hide</a> | <a href=\"item?id=23389435\">26&nbsp;comments</a>              </td></tr>\n",
      "      <tr class=\"spacer\" style=\"height:5px\"></tr>\n",
      "                <tr class='athing' id='23401258'>\n",
      "      <td align=\"right\" valign=\"top\" class=\"title\"><span class=\"rank\">16.</span></td>      <td valign=\"top\" class=\"votelinks\"><center><a id='up_23401258' href='vote?id=23401258&amp;how=up&amp;goto=news'><div class='votearrow' title='upvote'></div></a></center></td><td class=\"title\"><a href=\"https://news.lenovo.com/pressroom/press-releases/lenovo-brings-linux-certification-to-thinkpad-and-thinkstation-workstation-portfolio-easing-deployment-for-developers-data-scientists/\" class=\"storylink\">Lenovo to Certify ThinkPad and ThinkStation Workstation Portfolio for Linux</a><span class=\"sitebit comhead\"> (<a href=\"from?site=lenovo.com\"><span class=\"sitestr\">lenovo.com</span></a>)</span></td></tr><tr><td colspan=\"2\"></td><td class=\"subtext\">\n",
      "        <span class=\"score\" id=\"score_23401258\">202 points</span> by <a href=\"user?id=tpush\" class=\"hnuser\">tpush</a> <span class=\"age\"><a href=\"item?id=23401258\">5 hours ago</a></span> <span id=\"unv_23401258\"></span> | <a href=\"hide?id=23401258&amp;goto=news\">hide</a> | <a href=\"item?id=23401258\">112&nbsp;comments</a>              </td></tr>\n",
      "      <tr class=\"spacer\" style=\"height:5px\"></tr>\n",
      "                <tr class='athing' id='23401582'>\n",
      "      <td align=\"right\" valign=\"top\" class=\"title\"><span class=\"rank\">17.</span></td>      <td valign=\"top\" class=\"votelinks\"><center><a id='up_23401582' href='vote?id=23401582&amp;how=up&amp;goto=news'><div class='votearrow' title='upvote'></div></a></center></td><td class=\"title\"><a href=\"https://github.com/corona-warn-app/cwa-documentation\" class=\"storylink\">Germany's Covid contact tracing app is Open Source</a><span class=\"sitebit comhead\"> (<a href=\"from?site=github.com\"><span class=\"sitestr\">github.com</span></a>)</span></td></tr><tr><td colspan=\"2\"></td><td class=\"subtext\">\n",
      "        <span class=\"score\" id=\"score_23401582\">77 points</span> by <a href=\"user?id=fredrb\" class=\"hnuser\">fredrb</a> <span class=\"age\"><a href=\"item?id=23401582\">4 hours ago</a></span> <span id=\"unv_23401582\"></span> | <a href=\"hide?id=23401582&amp;goto=news\">hide</a> | <a href=\"item?id=23401582\">26&nbsp;comments</a>              </td></tr>\n",
      "      <tr class=\"spacer\" style=\"height:5px\"></tr>\n",
      "                <tr class='athing' id='23397560'>\n",
      "      <td align=\"right\" valign=\"top\" class=\"title\"><span class=\"rank\">18.</span></td>      <td valign=\"top\" class=\"votelinks\"><center><a id='up_23397560' href='vote?id=23397560&amp;how=up&amp;goto=news'><div class='votearrow' title='upvote'></div></a></center></td><td class=\"title\"><a href=\"http://www.wirfs-brock.com/allen/posts/914\" class=\"storylink\">The Rise and Fall of Commercial Smalltalk</a><span class=\"sitebit comhead\"> (<a href=\"from?site=wirfs-brock.com\"><span class=\"sitestr\">wirfs-brock.com</span></a>)</span></td></tr><tr><td colspan=\"2\"></td><td class=\"subtext\">\n",
      "        <span class=\"score\" id=\"score_23397560\">172 points</span> by <a href=\"user?id=matt_d\" class=\"hnuser\">matt_d</a> <span class=\"age\"><a href=\"item?id=23397560\">13 hours ago</a></span> <span id=\"unv_23397560\"></span> | <a href=\"hide?id=23397560&amp;goto=news\">hide</a> | <a href=\"item?id=23397560\">69&nbsp;comments</a>              </td></tr>\n",
      "      <tr class=\"spacer\" style=\"height:5px\"></tr>\n",
      "                <tr class='athing' id='23387588'>\n",
      "      <td align=\"right\" valign=\"top\" class=\"title\"><span class=\"rank\">19.</span></td>      <td valign=\"top\" class=\"votelinks\"><center><a id='up_23387588' href='vote?id=23387588&amp;how=up&amp;goto=news'><div class='votearrow' title='upvote'></div></a></center></td><td class=\"title\"><a href=\"https://pages.uoregon.edu/chendon/publications/2020/74.%20Matter,%20Espresso%20extraction.pdf\" class=\"storylink\">Systematically Improving Espresso: Insights from Mathematical Modeling [pdf]</a><span class=\"sitebit comhead\"> (<a href=\"from?site=uoregon.edu\"><span class=\"sitestr\">uoregon.edu</span></a>)</span></td></tr><tr><td colspan=\"2\"></td><td class=\"subtext\">\n",
      "        <span class=\"score\" id=\"score_23387588\">21 points</span> by <a href=\"user?id=tasubotadas\" class=\"hnuser\">tasubotadas</a> <span class=\"age\"><a href=\"item?id=23387588\">5 hours ago</a></span> <span id=\"unv_23387588\"></span> | <a href=\"hide?id=23387588&amp;goto=news\">hide</a> | <a href=\"item?id=23387588\">4&nbsp;comments</a>              </td></tr>\n",
      "      <tr class=\"spacer\" style=\"height:5px\"></tr>\n",
      "                <tr class='athing' id='23397613'>\n",
      "      <td align=\"right\" valign=\"top\" class=\"title\"><span class=\"rank\">20.</span></td>      <td valign=\"top\" class=\"votelinks\"><center><a id='up_23397613' href='vote?id=23397613&amp;how=up&amp;goto=news'><div class='votearrow' title='upvote'></div></a></center></td><td class=\"title\"><a href=\"https://www.buzzfeednews.com/article/venessawong/grubhub-phone-order-call-fee-coronavirus\" class=\"storylink\">People think they're calling restaurants directly but Grubhub is getting a fee</a><span class=\"sitebit comhead\"> (<a href=\"from?site=buzzfeednews.com\"><span class=\"sitestr\">buzzfeednews.com</span></a>)</span></td></tr><tr><td colspan=\"2\"></td><td class=\"subtext\">\n",
      "        <span class=\"score\" id=\"score_23397613\">430 points</span> by <a href=\"user?id=lemonberry\" class=\"hnuser\">lemonberry</a> <span class=\"age\"><a href=\"item?id=23397613\">14 hours ago</a></span> <span id=\"unv_23397613\"></span> | <a href=\"hide?id=23397613&amp;goto=news\">hide</a> | <a href=\"item?id=23397613\">212&nbsp;comments</a>              </td></tr>\n",
      "      <tr class=\"spacer\" style=\"height:5px\"></tr>\n",
      "                <tr class='athing' id='23393935'>\n",
      "      <td align=\"right\" valign=\"top\" class=\"title\"><span class=\"rank\">21.</span></td>      <td valign=\"top\" class=\"votelinks\"><center><a id='up_23393935' href='vote?id=23393935&amp;how=up&amp;goto=news'><div class='votearrow' title='upvote'></div></a></center></td><td class=\"title\"><a href=\"https://matrix.org/blog/2020/06/02/introducing-p-2-p-matrix\" class=\"storylink\">P2P Matrix</a><span class=\"sitebit comhead\"> (<a href=\"from?site=matrix.org\"><span class=\"sitestr\">matrix.org</span></a>)</span></td></tr><tr><td colspan=\"2\"></td><td class=\"subtext\">\n",
      "        <span class=\"score\" id=\"score_23393935\">680 points</span> by <a href=\"user?id=Arathorn\" class=\"hnuser\">Arathorn</a> <span class=\"age\"><a href=\"item?id=23393935\">19 hours ago</a></span> <span id=\"unv_23393935\"></span> | <a href=\"hide?id=23393935&amp;goto=news\">hide</a> | <a href=\"item?id=23393935\">162&nbsp;comments</a>              </td></tr>\n",
      "      <tr class=\"spacer\" style=\"height:5px\"></tr>\n",
      "                <tr class='athing' id='23402449'>\n",
      "      <td align=\"right\" valign=\"top\" class=\"title\"><span class=\"rank\">22.</span></td>      <td valign=\"top\" class=\"votelinks\"><center><a id='up_23402449' href='vote?id=23402449&amp;how=up&amp;goto=news'><div class='votearrow' title='upvote'></div></a></center></td><td class=\"title\"><a href=\"https://pressfreedomtracker.us/\" class=\"storylink\">U.S. Press Freedom Tracker</a><span class=\"sitebit comhead\"> (<a href=\"from?site=pressfreedomtracker.us\"><span class=\"sitestr\">pressfreedomtracker.us</span></a>)</span></td></tr><tr><td colspan=\"2\"></td><td class=\"subtext\">\n",
      "        <span class=\"score\" id=\"score_23402449\">61 points</span> by <a href=\"user?id=ryannevius\" class=\"hnuser\">ryannevius</a> <span class=\"age\"><a href=\"item?id=23402449\">1 hour ago</a></span> <span id=\"unv_23402449\"></span> | <a href=\"hide?id=23402449&amp;goto=news\">hide</a> | <a href=\"item?id=23402449\">27&nbsp;comments</a>              </td></tr>\n",
      "      <tr class=\"spacer\" style=\"height:5px\"></tr>\n",
      "                <tr class='athing' id='23397868'>\n",
      "      <td align=\"right\" valign=\"top\" class=\"title\"><span class=\"rank\">23.</span></td>      <td valign=\"top\" class=\"votelinks\"><center><a id='up_23397868' href='vote?id=23397868&amp;how=up&amp;goto=news'><div class='votearrow' title='upvote'></div></a></center></td><td class=\"title\"><a href=\"https://www.buzzfeednews.com/article/jasonleopold/george-floyd-police-brutality-protests-government\" class=\"storylink\">DEA authorized to conduct surveillance on protestors</a><span class=\"sitebit comhead\"> (<a href=\"from?site=buzzfeednews.com\"><span class=\"sitestr\">buzzfeednews.com</span></a>)</span></td></tr><tr><td colspan=\"2\"></td><td class=\"subtext\">\n",
      "        <span class=\"score\" id=\"score_23397868\">540 points</span> by <a href=\"user?id=codezero\" class=\"hnuser\">codezero</a> <span class=\"age\"><a href=\"item?id=23397868\">14 hours ago</a></span> <span id=\"unv_23397868\"></span> | <a href=\"hide?id=23397868&amp;goto=news\">hide</a> | <a href=\"item?id=23397868\">264&nbsp;comments</a>              </td></tr>\n",
      "      <tr class=\"spacer\" style=\"height:5px\"></tr>\n",
      "                <tr class='athing' id='23399275'>\n",
      "      <td align=\"right\" valign=\"top\" class=\"title\"><span class=\"rank\">24.</span></td>      <td valign=\"top\" class=\"votelinks\"><center><a id='up_23399275' href='vote?id=23399275&amp;how=up&amp;goto=news'><div class='votearrow' title='upvote'></div></a></center></td><td class=\"title\"><a href=\"https://www.cbc.ca/news/business/bce-5g-ericsson-1.5594601\" class=\"storylink\">Bell, Telus to use Nokia and Ericsson, not Huawei, in building their 5G networks</a><span class=\"sitebit comhead\"> (<a href=\"from?site=cbc.ca\"><span class=\"sitestr\">cbc.ca</span></a>)</span></td></tr><tr><td colspan=\"2\"></td><td class=\"subtext\">\n",
      "        <span class=\"score\" id=\"score_23399275\">297 points</span> by <a href=\"user?id=CalmStorm\" class=\"hnuser\">CalmStorm</a> <span class=\"age\"><a href=\"item?id=23399275\">10 hours ago</a></span> <span id=\"unv_23399275\"></span> | <a href=\"hide?id=23399275&amp;goto=news\">hide</a> | <a href=\"item?id=23399275\">171&nbsp;comments</a>              </td></tr>\n",
      "      <tr class=\"spacer\" style=\"height:5px\"></tr>\n",
      "                <tr class='athing' id='23388849'>\n",
      "      <td align=\"right\" valign=\"top\" class=\"title\"><span class=\"rank\">25.</span></td>      <td valign=\"top\" class=\"votelinks\"><center><a id='up_23388849' href='vote?id=23388849&amp;how=up&amp;goto=news'><div class='votearrow' title='upvote'></div></a></center></td><td class=\"title\"><a href=\"https://github.com/rochus-keller/Smalltalk#a-smalltalk-80-interpreted-virtual-machine\" class=\"storylink\">Interpreter for the original Xerox Smalltalk-80 virtual image (C++/Qt)</a><span class=\"sitebit comhead\"> (<a href=\"from?site=github.com\"><span class=\"sitestr\">github.com</span></a>)</span></td></tr><tr><td colspan=\"2\"></td><td class=\"subtext\">\n",
      "        <span class=\"score\" id=\"score_23388849\">83 points</span> by <a href=\"user?id=Rochus\" class=\"hnuser\">Rochus</a> <span class=\"age\"><a href=\"item?id=23388849\">12 hours ago</a></span> <span id=\"unv_23388849\"></span> | <a href=\"hide?id=23388849&amp;goto=news\">hide</a> | <a href=\"item?id=23388849\">24&nbsp;comments</a>              </td></tr>\n",
      "      <tr class=\"spacer\" style=\"height:5px\"></tr>\n",
      "                <tr class='athing' id='23399351'>\n",
      "      <td align=\"right\" valign=\"top\" class=\"title\"><span class=\"rank\">26.</span></td>      <td valign=\"top\" class=\"votelinks\"><center><a id='up_23399351' href='vote?id=23399351&amp;how=up&amp;goto=news'><div class='votearrow' title='upvote'></div></a></center></td><td class=\"title\"><a href=\"https://www.wsj.com/articles/last-person-to-receive-a-civil-war-era-pension-dies-11591141193\" class=\"storylink\">Last Person to Receive Civil War-Era Pension Dies</a><span class=\"sitebit comhead\"> (<a href=\"from?site=wsj.com\"><span class=\"sitestr\">wsj.com</span></a>)</span></td></tr><tr><td colspan=\"2\"></td><td class=\"subtext\">\n",
      "        <span class=\"score\" id=\"score_23399351\">191 points</span> by <a href=\"user?id=Reedx\" class=\"hnuser\">Reedx</a> <span class=\"age\"><a href=\"item?id=23399351\">10 hours ago</a></span> <span id=\"unv_23399351\"></span> | <a href=\"hide?id=23399351&amp;goto=news\">hide</a> | <a href=\"item?id=23399351\">93&nbsp;comments</a>              </td></tr>\n",
      "      <tr class=\"spacer\" style=\"height:5px\"></tr>\n",
      "                <tr class='athing' id='23401553'>\n",
      "      <td align=\"right\" valign=\"top\" class=\"title\"><span class=\"rank\">27.</span></td>      <td valign=\"top\" class=\"votelinks\"><center><a id='up_23401553' href='vote?id=23401553&amp;how=up&amp;goto=news'><div class='votearrow' title='upvote'></div></a></center></td><td class=\"title\"><a href=\"https://dev.p.ota.to/post/parcel-and-rust-a-wasm-romcom-4kgsjnrdm5t/\" class=\"storylink\" rel=\"nofollow\">Parcel and Rust: A WASM Romcom</a><span class=\"sitebit comhead\"> (<a href=\"from?site=ota.to\"><span class=\"sitestr\">ota.to</span></a>)</span></td></tr><tr><td colspan=\"2\"></td><td class=\"subtext\">\n",
      "        <span class=\"score\" id=\"score_23401553\">8 points</span> by <a href=\"user?id=kazade\" class=\"hnuser\">kazade</a> <span class=\"age\"><a href=\"item?id=23401553\">4 hours ago</a></span> <span id=\"unv_23401553\"></span> | <a href=\"hide?id=23401553&amp;goto=news\">hide</a> | <a href=\"item?id=23401553\">discuss</a>              </td></tr>\n",
      "      <tr class=\"spacer\" style=\"height:5px\"></tr>\n",
      "                <tr class='athing' id='23390024'>\n",
      "      <td align=\"right\" valign=\"top\" class=\"title\"><span class=\"rank\">28.</span></td>      <td valign=\"top\" class=\"votelinks\"><center><a id='up_23390024' href='vote?id=23390024&amp;how=up&amp;goto=news'><div class='votearrow' title='upvote'></div></a></center></td><td class=\"title\"><a href=\"https://spectrum.ieee.org/tech-talk/semiconductors/optoelectronics/vortex-laser\" class=\"storylink\">Vortex Lasers May Be a Boon for Data</a><span class=\"sitebit comhead\"> (<a href=\"from?site=ieee.org\"><span class=\"sitestr\">ieee.org</span></a>)</span></td></tr><tr><td colspan=\"2\"></td><td class=\"subtext\">\n",
      "        <span class=\"score\" id=\"score_23390024\">74 points</span> by <a href=\"user?id=headalgorithm\" class=\"hnuser\">headalgorithm</a> <span class=\"age\"><a href=\"item?id=23390024\">12 hours ago</a></span> <span id=\"unv_23390024\"></span> | <a href=\"hide?id=23390024&amp;goto=news\">hide</a> | <a href=\"item?id=23390024\">10&nbsp;comments</a>              </td></tr>\n",
      "      <tr class=\"spacer\" style=\"height:5px\"></tr>\n",
      "                <tr class='athing' id='23390707'>\n",
      "      <td align=\"right\" valign=\"top\" class=\"title\"><span class=\"rank\">29.</span></td>      <td valign=\"top\" class=\"votelinks\"><center><a id='up_23390707' href='vote?id=23390707&amp;how=up&amp;goto=news'><div class='votearrow' title='upvote'></div></a></center></td><td class=\"title\"><a href=\"https://www.vice.com/en_us/article/pkybn8/police-radio-scanner-apps-george-floyd-protests\" class=\"storylink\">Thousands are monitoring police scanners during the George Floyd protests</a><span class=\"sitebit comhead\"> (<a href=\"from?site=vice.com\"><span class=\"sitestr\">vice.com</span></a>)</span></td></tr><tr><td colspan=\"2\"></td><td class=\"subtext\">\n",
      "        <span class=\"score\" id=\"score_23390707\">353 points</span> by <a href=\"user?id=elorant\" class=\"hnuser\">elorant</a> <span class=\"age\"><a href=\"item?id=23390707\">22 hours ago</a></span> <span id=\"unv_23390707\"></span> | <a href=\"hide?id=23390707&amp;goto=news\">hide</a> | <a href=\"item?id=23390707\">173&nbsp;comments</a>              </td></tr>\n",
      "      <tr class=\"spacer\" style=\"height:5px\"></tr>\n",
      "                <tr class='athing' id='23391380'>\n",
      "      <td align=\"right\" valign=\"top\" class=\"title\"><span class=\"rank\">30.</span></td>      <td valign=\"top\" class=\"votelinks\"><center><a id='up_23391380' href='vote?id=23391380&amp;how=up&amp;goto=news'><div class='votearrow' title='upvote'></div></a></center></td><td class=\"title\"><a href=\"https://github.com/joshiemoore/snakeware\" class=\"storylink\">Snakeware – Linux distro with Python userspace inspired by Commodore 64</a><span class=\"sitebit comhead\"> (<a href=\"from?site=github.com\"><span class=\"sitestr\">github.com</span></a>)</span></td></tr><tr><td colspan=\"2\"></td><td class=\"subtext\">\n",
      "        <span class=\"score\" id=\"score_23391380\">418 points</span> by <a href=\"user?id=AnIdiotOnTheNet\" class=\"hnuser\">AnIdiotOnTheNet</a> <span class=\"age\"><a href=\"item?id=23391380\">23 hours ago</a></span> <span id=\"unv_23391380\"></span> | <a href=\"hide?id=23391380&amp;goto=news\">hide</a> | <a href=\"item?id=23391380\">139&nbsp;comments</a>              </td></tr>\n",
      "      <tr class=\"spacer\" style=\"height:5px\"></tr>\n",
      "            <tr class=\"morespace\" style=\"height:10px\"></tr><tr><td colspan=\"2\"></td><td class=\"title\"><a href=\"news?p=2\" class=\"morelink\" rel=\"next\">More</a></td></tr>\n",
      "  </table>\n",
      "</td></tr>\n",
      "<tr><td><img src=\"s.gif\" height=\"10\" width=\"0\"><table width=\"100%\" cellspacing=\"0\" cellpadding=\"1\"><tr><td bgcolor=\"#ff6600\"></td></tr></table><br><center><span class=\"yclinks\"><a href=\"newsguidelines.html\">Guidelines</a>\n",
      "        | <a href=\"newsfaq.html\">FAQ</a>\n",
      "        | <a href=\"mailto:hn@ycombinator.com\">Support</a>\n",
      "        | <a href=\"https://github.com/HackerNews/API\">API</a>\n",
      "        | <a href=\"security.html\">Security</a>\n",
      "        | <a href=\"lists\">Lists</a>\n",
      "        | <a href=\"bookmarklet.html\" rel=\"nofollow\">Bookmarklet</a>\n",
      "        | <a href=\"http://www.ycombinator.com/legal/\">Legal</a>\n",
      "        | <a href=\"http://www.ycombinator.com/apply/\">Apply to YC</a>\n",
      "        | <a href=\"mailto:hn@ycombinator.com\">Contact</a></span><br><br><form method=\"get\" action=\"//hn.algolia.com/\">Search:\n",
      "          <input type=\"text\" name=\"q\" value=\"\" size=\"17\" autocorrect=\"off\" spellcheck=\"false\" autocapitalize=\"off\" autocomplete=\"false\"></form>\n",
      "            </center></td></tr>\n",
      "      </table></center></body><script type='text/javascript' src='hn.js?cqKF7UqL3KIWisQnFXky'></script></html>\n",
      "\n"
     ]
    }
   ],
   "source": [
    "import requests\n",
    "\n",
    "r = requests.get(\"https://news.ycombinator.com\")\n",
    "print(r.text)"
   ]
  },
  {
   "cell_type": "code",
   "execution_count": null,
   "metadata": {},
   "outputs": [],
   "source": [
    "import re\n",
    "\n",
    "# Remove HTML tags using RegEx\n",
    "pattern = re.compile(r'<.*?>')  # tags look like <...>\n",
    "print(pattern.sub('', r.text))  # replace them with blank"
   ]
  },
  {
   "cell_type": "code",
   "execution_count": 5,
   "metadata": {},
   "outputs": [
    {
     "name": "stdout",
     "output_type": "stream",
     "text": [
      "\n",
      "        \n",
      "          \n",
      "        Hacker News\n",
      "        \n",
      "                  Hacker News\n",
      "              new | past | comments | ask | show | jobs | submit            \n",
      "                              login\n",
      "                          \n",
      "              \n",
      "\n",
      "              \n",
      "      1.      Weirdos in the depression (plover.com)\n",
      "        163 points by johndcook 2 hours ago  | hide | 100&nbsp;comments              \n",
      "      \n",
      "                \n",
      "      2.      Is a trillion-dollars worth of programming lying on the ground? (cerebralab.com)\n",
      "        56 points by george3d6 1 hour ago  | hide | 27&nbsp;comments              \n",
      "      \n",
      "                \n",
      "      3.      Show HN: Basic.css – Classless CSS Starter File (github.com)\n",
      "        47 points by vladocar 2 hours ago  | hide | 17&nbsp;comments              \n",
      "      \n",
      "                \n",
      "      4.      Zero Knowledge Proofs applied to Auctions [pdf] (mit.edu)\n",
      "        13 points by kkm 1 hour ago  | hide | discuss              \n",
      "      \n",
      "                \n",
      "      5.      Thoughts on cameras in the age of excellent cell phone photos (scalzi.com)\n",
      "        87 points by Tomte 5 hours ago  | hide | 131&nbsp;comments              \n",
      "      \n",
      "                \n",
      "      6.      Never-before-seen “black nitrogen” plugs puzzle in periodic table (newatlas.com)\n",
      "        310 points by sahin-boydas 12 hours ago  | hide | 93&nbsp;comments              \n",
      "      \n",
      "                \n",
      "      7.      Zoom says it won’t encrypt free calls so it can work more with law enforcement (twitter.com)\n",
      "        528 points by sneak 8 hours ago  | hide | 272&nbsp;comments              \n",
      "      \n",
      "                \n",
      "      8.      Esprit Board for Exploring ClojureScript on ESP32 Processors (tindie.com)\n",
      "        26 points by tosh 3 hours ago  | hide | 3&nbsp;comments              \n",
      "      \n",
      "                \n",
      "      9.      Reinventing the Wheel: Discovering the Optimal Rolling Shape with PyTorch (2019) (benwiener.com)\n",
      "        68 points by sillysaurusx 6 hours ago  | hide | 31&nbsp;comments              \n",
      "      \n",
      "                \n",
      "      10.      Park Police denies tear gas on peaceful protesters. Evidence suggests otherwise (vox.com)\n",
      "        26 points by hhs 22 minutes ago  | hide | 5&nbsp;comments              \n",
      "      \n",
      "                \n",
      "      11.      The Dyson Battery Electric Vehicle (dyson.co.uk)\n",
      "        93 points by uptown 1 hour ago  | hide | 32&nbsp;comments              \n",
      "      \n",
      "                \n",
      "      12.      How to write a toy JVM (zserge.com)\n",
      "        290 points by oftenwrong 15 hours ago  | hide | 61&nbsp;comments              \n",
      "      \n",
      "                \n",
      "      13.      Atom-Thin Switches Could Route 5G and 6G Radio Signals (ieee.org)\n",
      "        58 points by jonbaer 7 hours ago  | hide | 1&nbsp;comment              \n",
      "      \n",
      "                \n",
      "      14.      Sharedrop – Easy P2P file transfer powered by WebRTC (github.com)\n",
      "        212 points by todsacerdoti 13 hours ago  | hide | 61&nbsp;comments              \n",
      "      \n",
      "                \n",
      "      15.      Show HN: CubeWeaver, a collaborative multidimensional web-based spreadsheet (cubeweaver.com)\n",
      "        61 points by egeria_planning 6 hours ago  | hide | 26&nbsp;comments              \n",
      "      \n",
      "                \n",
      "      16.      Lenovo to Certify ThinkPad and ThinkStation Workstation Portfolio for Linux (lenovo.com)\n",
      "        202 points by tpush 5 hours ago  | hide | 112&nbsp;comments              \n",
      "      \n",
      "                \n",
      "      17.      Germany's Covid contact tracing app is Open Source (github.com)\n",
      "        77 points by fredrb 4 hours ago  | hide | 26&nbsp;comments              \n",
      "      \n",
      "                \n",
      "      18.      The Rise and Fall of Commercial Smalltalk (wirfs-brock.com)\n",
      "        172 points by matt_d 13 hours ago  | hide | 69&nbsp;comments              \n",
      "      \n",
      "                \n",
      "      19.      Systematically Improving Espresso: Insights from Mathematical Modeling [pdf] (uoregon.edu)\n",
      "        21 points by tasubotadas 5 hours ago  | hide | 4&nbsp;comments              \n",
      "      \n",
      "                \n",
      "      20.      People think they're calling restaurants directly but Grubhub is getting a fee (buzzfeednews.com)\n",
      "        430 points by lemonberry 14 hours ago  | hide | 212&nbsp;comments              \n",
      "      \n",
      "                \n",
      "      21.      P2P Matrix (matrix.org)\n",
      "        680 points by Arathorn 19 hours ago  | hide | 162&nbsp;comments              \n",
      "      \n",
      "                \n",
      "      22.      U.S. Press Freedom Tracker (pressfreedomtracker.us)\n",
      "        61 points by ryannevius 1 hour ago  | hide | 27&nbsp;comments              \n",
      "      \n",
      "                \n",
      "      23.      DEA authorized to conduct surveillance on protestors (buzzfeednews.com)\n",
      "        540 points by codezero 14 hours ago  | hide | 264&nbsp;comments              \n",
      "      \n",
      "                \n",
      "      24.      Bell, Telus to use Nokia and Ericsson, not Huawei, in building their 5G networks (cbc.ca)\n",
      "        297 points by CalmStorm 10 hours ago  | hide | 171&nbsp;comments              \n",
      "      \n",
      "                \n",
      "      25.      Interpreter for the original Xerox Smalltalk-80 virtual image (C++/Qt) (github.com)\n",
      "        83 points by Rochus 12 hours ago  | hide | 24&nbsp;comments              \n",
      "      \n",
      "                \n",
      "      26.      Last Person to Receive Civil War-Era Pension Dies (wsj.com)\n",
      "        191 points by Reedx 10 hours ago  | hide | 93&nbsp;comments              \n",
      "      \n",
      "                \n",
      "      27.      Parcel and Rust: A WASM Romcom (ota.to)\n",
      "        8 points by kazade 4 hours ago  | hide | discuss              \n",
      "      \n",
      "                \n",
      "      28.      Vortex Lasers May Be a Boon for Data (ieee.org)\n",
      "        74 points by headalgorithm 12 hours ago  | hide | 10&nbsp;comments              \n",
      "      \n",
      "                \n",
      "      29.      Thousands are monitoring police scanners during the George Floyd protests (vice.com)\n",
      "        353 points by elorant 22 hours ago  | hide | 173&nbsp;comments              \n",
      "      \n",
      "                \n",
      "      30.      Snakeware – Linux distro with Python userspace inspired by Commodore 64 (github.com)\n",
      "        418 points by AnIdiotOnTheNet 23 hours ago  | hide | 139&nbsp;comments              \n",
      "      \n",
      "            More\n",
      "  \n",
      "\n",
      "Guidelines\n",
      "        | FAQ\n",
      "        | Support\n",
      "        | API\n",
      "        | Security\n",
      "        | Lists\n",
      "        | Bookmarklet\n",
      "        | Legal\n",
      "        | Apply to YC\n",
      "        | ContactSearch:\n",
      "          \n",
      "            \n",
      "      \n",
      "\n"
     ]
    }
   ],
   "source": [
    "import re\n",
    "\n",
    "#Remove HTML tags using regex\n",
    "pattern = re.compile(r'<.*?>')\n",
    "print(pattern.sub('', r.text))"
   ]
  },
  {
   "cell_type": "code",
   "execution_count": 6,
   "metadata": {},
   "outputs": [
    {
     "name": "stdout",
     "output_type": "stream",
     "text": [
      "\n",
      "        \n",
      "          \n",
      "        Hacker News\n",
      "        \n",
      "                  Hacker News\n",
      "              new | past | comments | ask | show | jobs | submit            \n",
      "                              login\n",
      "                          \n",
      "              \n",
      "\n",
      "              \n",
      "      1.      Weirdos in the depression (plover.com)\n",
      "        163 points by johndcook 2 hours ago  | hide | 100 comments              \n",
      "      \n",
      "                \n",
      "      2.      Is a trillion-dollars worth of programming lying on the ground? (cerebralab.com)\n",
      "        56 points by george3d6 1 hour ago  | hide | 27 comments              \n",
      "      \n",
      "                \n",
      "      3.      Show HN: Basic.css – Classless CSS Starter File (github.com)\n",
      "        47 points by vladocar 2 hours ago  | hide | 17 comments              \n",
      "      \n",
      "                \n",
      "      4.      Zero Knowledge Proofs applied to Auctions [pdf] (mit.edu)\n",
      "        13 points by kkm 1 hour ago  | hide | discuss              \n",
      "      \n",
      "                \n",
      "      5.      Thoughts on cameras in the age of excellent cell phone photos (scalzi.com)\n",
      "        87 points by Tomte 5 hours ago  | hide | 131 comments              \n",
      "      \n",
      "                \n",
      "      6.      Never-before-seen “black nitrogen” plugs puzzle in periodic table (newatlas.com)\n",
      "        310 points by sahin-boydas 12 hours ago  | hide | 93 comments              \n",
      "      \n",
      "                \n",
      "      7.      Zoom says it won’t encrypt free calls so it can work more with law enforcement (twitter.com)\n",
      "        528 points by sneak 8 hours ago  | hide | 272 comments              \n",
      "      \n",
      "                \n",
      "      8.      Esprit Board for Exploring ClojureScript on ESP32 Processors (tindie.com)\n",
      "        26 points by tosh 3 hours ago  | hide | 3 comments              \n",
      "      \n",
      "                \n",
      "      9.      Reinventing the Wheel: Discovering the Optimal Rolling Shape with PyTorch (2019) (benwiener.com)\n",
      "        68 points by sillysaurusx 6 hours ago  | hide | 31 comments              \n",
      "      \n",
      "                \n",
      "      10.      Park Police denies tear gas on peaceful protesters. Evidence suggests otherwise (vox.com)\n",
      "        26 points by hhs 22 minutes ago  | hide | 5 comments              \n",
      "      \n",
      "                \n",
      "      11.      The Dyson Battery Electric Vehicle (dyson.co.uk)\n",
      "        93 points by uptown 1 hour ago  | hide | 32 comments              \n",
      "      \n",
      "                \n",
      "      12.      How to write a toy JVM (zserge.com)\n",
      "        290 points by oftenwrong 15 hours ago  | hide | 61 comments              \n",
      "      \n",
      "                \n",
      "      13.      Atom-Thin Switches Could Route 5G and 6G Radio Signals (ieee.org)\n",
      "        58 points by jonbaer 7 hours ago  | hide | 1 comment              \n",
      "      \n",
      "                \n",
      "      14.      Sharedrop – Easy P2P file transfer powered by WebRTC (github.com)\n",
      "        212 points by todsacerdoti 13 hours ago  | hide | 61 comments              \n",
      "      \n",
      "                \n",
      "      15.      Show HN: CubeWeaver, a collaborative multidimensional web-based spreadsheet (cubeweaver.com)\n",
      "        61 points by egeria_planning 6 hours ago  | hide | 26 comments              \n",
      "      \n",
      "                \n",
      "      16.      Lenovo to Certify ThinkPad and ThinkStation Workstation Portfolio for Linux (lenovo.com)\n",
      "        202 points by tpush 5 hours ago  | hide | 112 comments              \n",
      "      \n",
      "                \n",
      "      17.      Germany's Covid contact tracing app is Open Source (github.com)\n",
      "        77 points by fredrb 4 hours ago  | hide | 26 comments              \n",
      "      \n",
      "                \n",
      "      18.      The Rise and Fall of Commercial Smalltalk (wirfs-brock.com)\n",
      "        172 points by matt_d 13 hours ago  | hide | 69 comments              \n",
      "      \n",
      "                \n",
      "      19.      Systematically Improving Espresso: Insights from Mathematical Modeling [pdf] (uoregon.edu)\n",
      "        21 points by tasubotadas 5 hours ago  | hide | 4 comments              \n",
      "      \n",
      "                \n",
      "      20.      People think they're calling restaurants directly but Grubhub is getting a fee (buzzfeednews.com)\n",
      "        430 points by lemonberry 14 hours ago  | hide | 212 comments              \n",
      "      \n",
      "                \n",
      "      21.      P2P Matrix (matrix.org)\n",
      "        680 points by Arathorn 19 hours ago  | hide | 162 comments              \n",
      "      \n",
      "                \n",
      "      22.      U.S. Press Freedom Tracker (pressfreedomtracker.us)\n",
      "        61 points by ryannevius 1 hour ago  | hide | 27 comments              \n",
      "      \n",
      "                \n",
      "      23.      DEA authorized to conduct surveillance on protestors (buzzfeednews.com)\n",
      "        540 points by codezero 14 hours ago  | hide | 264 comments              \n",
      "      \n",
      "                \n",
      "      24.      Bell, Telus to use Nokia and Ericsson, not Huawei, in building their 5G networks (cbc.ca)\n",
      "        297 points by CalmStorm 10 hours ago  | hide | 171 comments              \n",
      "      \n",
      "                \n",
      "      25.      Interpreter for the original Xerox Smalltalk-80 virtual image (C++/Qt) (github.com)\n",
      "        83 points by Rochus 12 hours ago  | hide | 24 comments              \n",
      "      \n",
      "                \n",
      "      26.      Last Person to Receive Civil War-Era Pension Dies (wsj.com)\n",
      "        191 points by Reedx 10 hours ago  | hide | 93 comments              \n",
      "      \n",
      "                \n",
      "      27.      Parcel and Rust: A WASM Romcom (ota.to)\n",
      "        8 points by kazade 4 hours ago  | hide | discuss              \n",
      "      \n",
      "                \n",
      "      28.      Vortex Lasers May Be a Boon for Data (ieee.org)\n",
      "        74 points by headalgorithm 12 hours ago  | hide | 10 comments              \n",
      "      \n",
      "                \n",
      "      29.      Thousands are monitoring police scanners during the George Floyd protests (vice.com)\n",
      "        353 points by elorant 22 hours ago  | hide | 173 comments              \n",
      "      \n",
      "                \n",
      "      30.      Snakeware – Linux distro with Python userspace inspired by Commodore 64 (github.com)\n",
      "        418 points by AnIdiotOnTheNet 23 hours ago  | hide | 139 comments              \n",
      "      \n",
      "            More\n",
      "  \n",
      "\n",
      "Guidelines\n",
      "        | FAQ\n",
      "        | Support\n",
      "        | API\n",
      "        | Security\n",
      "        | Lists\n",
      "        | Bookmarklet\n",
      "        | Legal\n",
      "        | Apply to YC\n",
      "        | ContactSearch:\n",
      "          \n",
      "            \n",
      "      \n",
      "\n"
     ]
    }
   ],
   "source": [
    "from bs4 import BeautifulSoup\n",
    "\n",
    "# Remove HTML tags using Beautiful Soup library\n",
    "soup = BeautifulSoup(r.text, \"html5lib\")\n",
    "print(soup.get_text())"
   ]
  },
  {
   "cell_type": "code",
   "execution_count": null,
   "metadata": {
    "scrolled": true
   },
   "outputs": [],
   "source": [
    "# Find all articles\n",
    "summaries = soup.find_all(\"tr\", class_=\"athing\")\n",
    "summaries[0]"
   ]
  },
  {
   "cell_type": "code",
   "execution_count": 7,
   "metadata": {},
   "outputs": [
    {
     "data": {
      "text/plain": [
       "<tr class=\"athing\" id=\"23402343\">\n",
       "      <td align=\"right\" class=\"title\" valign=\"top\"><span class=\"rank\">1.</span></td>      <td class=\"votelinks\" valign=\"top\"><center><a href=\"vote?id=23402343&amp;how=up&amp;goto=news\" id=\"up_23402343\"><div class=\"votearrow\" title=\"upvote\"></div></a></center></td><td class=\"title\"><a class=\"storylink\" href=\"https://blog.plover.com/book/weirdos.html\">Weirdos in the depression</a><span class=\"sitebit comhead\"> (<a href=\"from?site=plover.com\"><span class=\"sitestr\">plover.com</span></a>)</span></td></tr>"
      ]
     },
     "execution_count": 7,
     "metadata": {},
     "output_type": "execute_result"
    }
   ],
   "source": [
    "summaries = soup.find_all(\"tr\", class_ = \"athing\")\n",
    "summaries[0]"
   ]
  },
  {
   "cell_type": "code",
   "execution_count": null,
   "metadata": {},
   "outputs": [],
   "source": [
    "# Extract title\n",
    "summaries[0].find(\"a\", class_=\"storylink\").get_text().strip()"
   ]
  },
  {
   "cell_type": "code",
   "execution_count": 8,
   "metadata": {},
   "outputs": [
    {
     "data": {
      "text/plain": [
       "'Weirdos in the depression'"
      ]
     },
     "execution_count": 8,
     "metadata": {},
     "output_type": "execute_result"
    }
   ],
   "source": [
    "summaries[0].find(\"a\", class_=\"storylink\").get_text().strip()"
   ]
  },
  {
   "cell_type": "code",
   "execution_count": null,
   "metadata": {},
   "outputs": [],
   "source": [
    "# Find all articles, extract titles\n",
    "articles = []\n",
    "summaries = soup.find_all(\"tr\", class_=\"athing\")\n",
    "for summary in summaries:\n",
    "    title = summary.find(\"a\", class_=\"storylink\").get_text().strip()\n",
    "    articles.append((title))\n",
    "\n",
    "print(len(articles), \"Article summaries found. Sample:\")\n",
    "print(articles[0])"
   ]
  },
  {
   "cell_type": "code",
   "execution_count": 9,
   "metadata": {},
   "outputs": [
    {
     "name": "stdout",
     "output_type": "stream",
     "text": [
      "30 Article summaries found. Sample:\n",
      "Weirdos in the depression\n"
     ]
    }
   ],
   "source": [
    "#find all the articles and extract all the titles\n",
    "articles = []\n",
    "summaries = soup.find_all(\"tr\", class_ = \"athing\")\n",
    "for summary in summaries:\n",
    "    title = summary.find(\"a\", class_=\"storylink\").get_text().strip()\n",
    "    articles.append((title))\n",
    "    \n",
    "print(len(articles), \"Article summaries found. Sample:\")\n",
    "print(articles[0])"
   ]
  },
  {
   "cell_type": "markdown",
   "metadata": {
    "collapsed": true
   },
   "source": [
    "## Normalization"
   ]
  },
  {
   "cell_type": "markdown",
   "metadata": {},
   "source": [
    "### Case Normalization"
   ]
  },
  {
   "cell_type": "code",
   "execution_count": 10,
   "metadata": {},
   "outputs": [
    {
     "name": "stdout",
     "output_type": "stream",
     "text": [
      "The first time you see The Second Renaissance it may look boring. Look at it at least twice and definitely watch part 2. It will change your view of the matrix. Are the human people the ones who started the war ? Is AI a bad thing ?\n"
     ]
    }
   ],
   "source": [
    "# Sample text\n",
    "text = \"The first time you see The Second Renaissance it may look boring. Look at it at least twice and definitely watch part 2. It will change your view of the matrix. Are the human people the ones who started the war ? Is AI a bad thing ?\"\n",
    "print(text)"
   ]
  },
  {
   "cell_type": "code",
   "execution_count": 11,
   "metadata": {},
   "outputs": [
    {
     "name": "stdout",
     "output_type": "stream",
     "text": [
      "the first time you see the second renaissance it may look boring. look at it at least twice and definitely watch part 2. it will change your view of the matrix. are the human people the ones who started the war ? is ai a bad thing ?\n"
     ]
    }
   ],
   "source": [
    "# Convert to lowercase\n",
    "text = text.lower() \n",
    "print(text)"
   ]
  },
  {
   "cell_type": "markdown",
   "metadata": {},
   "source": [
    "### Punctuation Removal"
   ]
  },
  {
   "cell_type": "code",
   "execution_count": 12,
   "metadata": {},
   "outputs": [
    {
     "name": "stdout",
     "output_type": "stream",
     "text": [
      "the first time you see the second renaissance it may look boring  look at it at least twice and definitely watch part 2  it will change your view of the matrix  are the human people the ones who started the war   is ai a bad thing  \n"
     ]
    }
   ],
   "source": [
    "import re\n",
    "\n",
    "# Remove punctuation characters\n",
    "text = re.sub(r\"[^a-zA-Z0-9]\", \" \", text) \n",
    "print(text)"
   ]
  },
  {
   "cell_type": "markdown",
   "metadata": {},
   "source": [
    "## Tokenization"
   ]
  },
  {
   "cell_type": "code",
   "execution_count": 13,
   "metadata": {},
   "outputs": [
    {
     "name": "stdout",
     "output_type": "stream",
     "text": [
      "['the', 'first', 'time', 'you', 'see', 'the', 'second', 'renaissance', 'it', 'may', 'look', 'boring', 'look', 'at', 'it', 'at', 'least', 'twice', 'and', 'definitely', 'watch', 'part', '2', 'it', 'will', 'change', 'your', 'view', 'of', 'the', 'matrix', 'are', 'the', 'human', 'people', 'the', 'ones', 'who', 'started', 'the', 'war', 'is', 'ai', 'a', 'bad', 'thing']\n"
     ]
    }
   ],
   "source": [
    "# Split text into tokens (words)\n",
    "words = text.split()\n",
    "print(words)"
   ]
  },
  {
   "cell_type": "markdown",
   "metadata": {},
   "source": [
    "### NLTK: Natural Language ToolKit"
   ]
  },
  {
   "cell_type": "code",
   "execution_count": null,
   "metadata": {},
   "outputs": [],
   "source": [
    "import os\n",
    "import nltk\n",
    "nltk.data.path.append(os.path.join(os.getcwd(), \"nltk_data\"))"
   ]
  },
  {
   "cell_type": "code",
   "execution_count": 14,
   "metadata": {},
   "outputs": [],
   "source": [
    "import os\n",
    "import nltk\n",
    "nltk.data.path.append(os.path.join(os.getcwd(), \"nltk_data\"))"
   ]
  },
  {
   "cell_type": "code",
   "execution_count": 15,
   "metadata": {},
   "outputs": [
    {
     "name": "stdout",
     "output_type": "stream",
     "text": [
      "Dr. Smith graduated from the University of Washington. He later started an analytics firm called Lux, which catered to enterprise customers.\n"
     ]
    }
   ],
   "source": [
    "# Another sample text\n",
    "text = \"Dr. Smith graduated from the University of Washington. He later started an analytics firm called Lux, which catered to enterprise customers.\"\n",
    "print(text)"
   ]
  },
  {
   "cell_type": "code",
   "execution_count": 16,
   "metadata": {},
   "outputs": [
    {
     "name": "stdout",
     "output_type": "stream",
     "text": [
      "['Dr.', 'Smith', 'graduated', 'from', 'the', 'University', 'of', 'Washington', '.', 'He', 'later', 'started', 'an', 'analytics', 'firm', 'called', 'Lux', ',', 'which', 'catered', 'to', 'enterprise', 'customers', '.']\n"
     ]
    }
   ],
   "source": [
    "from nltk.tokenize import word_tokenize\n",
    "\n",
    "words = word_tokenize(text)\n",
    "print(words)"
   ]
  },
  {
   "cell_type": "code",
   "execution_count": null,
   "metadata": {},
   "outputs": [],
   "source": [
    "from nltk.tokenize import word_tokenize\n",
    "\n",
    "# Split text into words using NLTK\n",
    "words = word_tokenize(text)\n",
    "print(words)"
   ]
  },
  {
   "cell_type": "code",
   "execution_count": 17,
   "metadata": {},
   "outputs": [
    {
     "name": "stdout",
     "output_type": "stream",
     "text": [
      "['Dr. Smith graduated from the University of Washington.', 'He later started an analytics firm called Lux, which catered to enterprise customers.']\n"
     ]
    }
   ],
   "source": [
    "from nltk.tokenize import sent_tokenize\n",
    "\n",
    "# Split text into sentences\n",
    "sentences = sent_tokenize(text)\n",
    "print(sentences)"
   ]
  },
  {
   "cell_type": "code",
   "execution_count": 18,
   "metadata": {},
   "outputs": [
    {
     "name": "stdout",
     "output_type": "stream",
     "text": [
      "['i', 'me', 'my', 'myself', 'we', 'our', 'ours', 'ourselves', 'you', \"you're\", \"you've\", \"you'll\", \"you'd\", 'your', 'yours', 'yourself', 'yourselves', 'he', 'him', 'his', 'himself', 'she', \"she's\", 'her', 'hers', 'herself', 'it', \"it's\", 'its', 'itself', 'they', 'them', 'their', 'theirs', 'themselves', 'what', 'which', 'who', 'whom', 'this', 'that', \"that'll\", 'these', 'those', 'am', 'is', 'are', 'was', 'were', 'be', 'been', 'being', 'have', 'has', 'had', 'having', 'do', 'does', 'did', 'doing', 'a', 'an', 'the', 'and', 'but', 'if', 'or', 'because', 'as', 'until', 'while', 'of', 'at', 'by', 'for', 'with', 'about', 'against', 'between', 'into', 'through', 'during', 'before', 'after', 'above', 'below', 'to', 'from', 'up', 'down', 'in', 'out', 'on', 'off', 'over', 'under', 'again', 'further', 'then', 'once', 'here', 'there', 'when', 'where', 'why', 'how', 'all', 'any', 'both', 'each', 'few', 'more', 'most', 'other', 'some', 'such', 'no', 'nor', 'not', 'only', 'own', 'same', 'so', 'than', 'too', 'very', 's', 't', 'can', 'will', 'just', 'don', \"don't\", 'should', \"should've\", 'now', 'd', 'll', 'm', 'o', 're', 've', 'y', 'ain', 'aren', \"aren't\", 'couldn', \"couldn't\", 'didn', \"didn't\", 'doesn', \"doesn't\", 'hadn', \"hadn't\", 'hasn', \"hasn't\", 'haven', \"haven't\", 'isn', \"isn't\", 'ma', 'mightn', \"mightn't\", 'mustn', \"mustn't\", 'needn', \"needn't\", 'shan', \"shan't\", 'shouldn', \"shouldn't\", 'wasn', \"wasn't\", 'weren', \"weren't\", 'won', \"won't\", 'wouldn', \"wouldn't\"]\n"
     ]
    }
   ],
   "source": [
    "#List stop words\n",
    "\n",
    "from nltk.corpus import stopwords\n",
    "print(stopwords.words(\"english\"))"
   ]
  },
  {
   "cell_type": "code",
   "execution_count": null,
   "metadata": {},
   "outputs": [],
   "source": [
    "# List stop words\n",
    "from nltk.corpus import stopwords\n",
    "print(stopwords.words(\"english\"))"
   ]
  },
  {
   "cell_type": "code",
   "execution_count": 19,
   "metadata": {},
   "outputs": [
    {
     "name": "stdout",
     "output_type": "stream",
     "text": [
      "['the', 'first', 'time', 'you', 'see', 'the', 'second', 'renaissance', 'it', 'may', 'look', 'boring', 'look', 'at', 'it', 'at', 'least', 'twice', 'and', 'definitely', 'watch', 'part', '2', 'it', 'will', 'change', 'your', 'view', 'of', 'the', 'matrix', 'are', 'the', 'human', 'people', 'the', 'ones', 'who', 'started', 'the', 'war', 'is', 'ai', 'a', 'bad', 'thing']\n"
     ]
    }
   ],
   "source": [
    "# Reset text\n",
    "text = \"The first time you see The Second Renaissance it may look boring. Look at it at least twice and definitely watch part 2. It will change your view of the matrix. Are the human people the ones who started the war ? Is AI a bad thing ?\"\n",
    "\n",
    "# Normalize it\n",
    "text = re.sub(r\"[^a-zA-Z0-9]\", \" \", text.lower())\n",
    "\n",
    "# Tokenize it\n",
    "words = text.split()\n",
    "print(words)"
   ]
  },
  {
   "cell_type": "code",
   "execution_count": 20,
   "metadata": {},
   "outputs": [
    {
     "name": "stdout",
     "output_type": "stream",
     "text": [
      "['first', 'time', 'see', 'second', 'renaissance', 'may', 'look', 'boring', 'look', 'least', 'twice', 'definitely', 'watch', 'part', '2', 'change', 'view', 'matrix', 'human', 'people', 'ones', 'started', 'war', 'ai', 'bad', 'thing']\n"
     ]
    }
   ],
   "source": [
    "#Remove stop words\n",
    "words = [w for w in words if w not in stopwords.words(\"english\")]\n",
    "print(words)"
   ]
  },
  {
   "cell_type": "code",
   "execution_count": null,
   "metadata": {},
   "outputs": [],
   "source": [
    "# Remove stop words\n",
    "words = [w for w in words if w not in stopwords.words(\"english\")]\n",
    "print(words)"
   ]
  },
  {
   "cell_type": "markdown",
   "metadata": {},
   "source": [
    "### Sentence Parsing"
   ]
  },
  {
   "cell_type": "code",
   "execution_count": 21,
   "metadata": {},
   "outputs": [
    {
     "name": "stdout",
     "output_type": "stream",
     "text": [
      "(S\n",
      "  (NP I)\n",
      "  (VP\n",
      "    (VP (V shot) (NP (Det an) (N elephant)))\n",
      "    (PP (P in) (NP (Det my) (N pajamas)))))\n",
      "(S\n",
      "  (NP I)\n",
      "  (VP\n",
      "    (V shot)\n",
      "    (NP (Det an) (N elephant) (PP (P in) (NP (Det my) (N pajamas))))))\n"
     ]
    }
   ],
   "source": [
    "import nltk\n",
    "\n",
    "# Define a custom grammar\n",
    "my_grammar = nltk.CFG.fromstring(\"\"\"\n",
    "S -> NP VP\n",
    "PP -> P NP\n",
    "NP -> Det N | Det N PP | 'I'\n",
    "VP -> V NP | VP PP\n",
    "Det -> 'an' | 'my'\n",
    "N -> 'elephant' | 'pajamas'\n",
    "V -> 'shot'\n",
    "P -> 'in'\n",
    "\"\"\")\n",
    "parser = nltk.ChartParser(my_grammar)\n",
    "\n",
    "# Parse a sentence\n",
    "sentence = word_tokenize(\"I shot an elephant in my pajamas\")\n",
    "for tree in parser.parse(sentence):\n",
    "    print(tree)"
   ]
  },
  {
   "cell_type": "markdown",
   "metadata": {},
   "source": [
    "## Stemming & Lemmatization\n",
    "\n",
    "### Stemming"
   ]
  },
  {
   "cell_type": "code",
   "execution_count": 22,
   "metadata": {},
   "outputs": [
    {
     "name": "stdout",
     "output_type": "stream",
     "text": [
      "['first', 'time', 'see', 'second', 'renaiss', 'may', 'look', 'bore', 'look', 'least', 'twice', 'definit', 'watch', 'part', '2', 'chang', 'view', 'matrix', 'human', 'peopl', 'one', 'start', 'war', 'ai', 'bad', 'thing']\n"
     ]
    }
   ],
   "source": [
    "from nltk.stem.porter import PorterStemmer\n",
    "\n",
    "# Reduce words to their stems\n",
    "stemmed = [PorterStemmer().stem(w) for w in words]\n",
    "print(stemmed)"
   ]
  },
  {
   "cell_type": "markdown",
   "metadata": {},
   "source": [
    "### Lemmatization"
   ]
  },
  {
   "cell_type": "code",
   "execution_count": 23,
   "metadata": {},
   "outputs": [
    {
     "name": "stdout",
     "output_type": "stream",
     "text": [
      "['first', 'time', 'see', 'second', 'renaissance', 'may', 'look', 'boring', 'look', 'least', 'twice', 'definitely', 'watch', 'part', '2', 'change', 'view', 'matrix', 'human', 'people', 'one', 'started', 'war', 'ai', 'bad', 'thing']\n"
     ]
    }
   ],
   "source": [
    "from nltk.stem.wordnet import WordNetLemmatizer\n",
    "\n",
    "# Reduce words to their root form\n",
    "lemmed = [WordNetLemmatizer().lemmatize(w) for w in words]\n",
    "print(lemmed)"
   ]
  },
  {
   "cell_type": "code",
   "execution_count": null,
   "metadata": {},
   "outputs": [],
   "source": [
    "# Lemmatize verbs by specifying pos\n",
    "lemmed = [WordNetLemmatizer().lemmatize(w, pos='v') for w in lemmed]\n",
    "print(lemmed)"
   ]
  },
  {
   "cell_type": "code",
   "execution_count": 24,
   "metadata": {},
   "outputs": [
    {
     "name": "stdout",
     "output_type": "stream",
     "text": [
      "['first', 'time', 'see', 'second', 'renaissance', 'may', 'look', 'bore', 'look', 'least', 'twice', 'definitely', 'watch', 'part', '2', 'change', 'view', 'matrix', 'human', 'people', 'one', 'start', 'war', 'ai', 'bad', 'thing']\n"
     ]
    }
   ],
   "source": [
    "lemmed = [WordNetLemmatizer().lemmatize(w, pos ='v') for w in lemmed]\n",
    "print(lemmed)\n",
    "                                        "
   ]
  },
  {
   "cell_type": "code",
   "execution_count": null,
   "metadata": {},
   "outputs": [],
   "source": []
  }
 ],
 "metadata": {
  "kernelspec": {
   "display_name": "Python 3",
   "language": "python",
   "name": "python3"
  },
  "language_info": {
   "codemirror_mode": {
    "name": "ipython",
    "version": 3
   },
   "file_extension": ".py",
   "mimetype": "text/x-python",
   "name": "python",
   "nbconvert_exporter": "python",
   "pygments_lexer": "ipython3",
   "version": "3.6.3"
  }
 },
 "nbformat": 4,
 "nbformat_minor": 2
}
